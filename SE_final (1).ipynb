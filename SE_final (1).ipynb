{
 "cells": [
  {
   "cell_type": "code",
   "execution_count": 1,
   "metadata": {},
   "outputs": [],
   "source": [
    "import pandas as pd\n",
    "import numpy as np\n",
    "import matplotlib.pyplot as plt"
   ]
  },
  {
   "cell_type": "code",
   "execution_count": 2,
   "metadata": {},
   "outputs": [
    {
     "name": "stdout",
     "output_type": "stream",
     "text": [
      "   heartrate  systolicbp  diastolicbp  spo2  status\n",
      "0         90          92           75    90       1\n",
      "1        108          87           57    93       2\n",
      "2         92          88           71    93       2\n",
      "3        101          75           74    93       1\n",
      "4         98         103           70    88       2\n",
      "<class 'pandas.core.frame.DataFrame'>\n",
      "RangeIndex: 10728 entries, 0 to 10727\n",
      "Data columns (total 5 columns):\n",
      " #   Column       Non-Null Count  Dtype\n",
      "---  ------       --------------  -----\n",
      " 0   heartrate    10728 non-null  int64\n",
      " 1   systolicbp   10728 non-null  int64\n",
      " 2   diastolicbp  10728 non-null  int64\n",
      " 3   spo2         10728 non-null  int64\n",
      " 4   status       10728 non-null  int64\n",
      "dtypes: int64(5)\n",
      "memory usage: 419.2 KB\n",
      "None\n"
     ]
    }
   ],
   "source": [
    "df = pd.read_csv(\"./drown.csv\")\n",
    "print(df.head())\n",
    "print(df.info())"
   ]
  },
  {
   "cell_type": "code",
   "execution_count": 3,
   "metadata": {},
   "outputs": [
    {
     "name": "stdout",
     "output_type": "stream",
     "text": [
      "(10728, 4) (10728,)\n"
     ]
    }
   ],
   "source": [
    "X = np.array(df[['heartrate', 'systolicbp', 'diastolicbp', 'spo2']])\n",
    "y = np.array(df['status'])\n",
    "print(X.shape, y.shape)"
   ]
  },
  {
   "cell_type": "code",
   "execution_count": 4,
   "metadata": {},
   "outputs": [
    {
     "name": "stdout",
     "output_type": "stream",
     "text": [
      "1052 4490 2799 1460 927\n"
     ]
    }
   ],
   "source": [
    "print(np.count_nonzero(y == 0), np.count_nonzero(y == 1), np.count_nonzero(y == 2), np.count_nonzero(y == 3), np.count_nonzero(y == 4))"
   ]
  },
  {
   "cell_type": "code",
   "execution_count": 5,
   "metadata": {},
   "outputs": [
    {
     "name": "stdout",
     "output_type": "stream",
     "text": [
      "(8582, 4) (8582,) (2146, 4) (2146,)\n"
     ]
    }
   ],
   "source": [
    "from sklearn.model_selection import train_test_split\n",
    "X_train, X_test, y_train, y_test = train_test_split(X, y, test_size = 0.2, random_state = 0)\n",
    "print(X_train.shape, y_train.shape, X_test.shape, y_test.shape)"
   ]
  },
  {
   "cell_type": "code",
   "execution_count": 6,
   "metadata": {},
   "outputs": [
    {
     "name": "stdout",
     "output_type": "stream",
     "text": [
      "[LibSVM]"
     ]
    },
    {
     "data": {
      "text/plain": [
       "SVC(C=10, gamma=0.1, random_state=0, verbose=1)"
      ]
     },
     "execution_count": 6,
     "metadata": {},
     "output_type": "execute_result"
    }
   ],
   "source": [
    "from sklearn import svm\n",
    "model = svm.SVC(kernel = 'rbf',\n",
    "                gamma = 0.1,\n",
    "                C = 10,\n",
    "                random_state = 0,\n",
    "                verbose = 1\n",
    "               )\n",
    "model.fit(X_train, y_train)"
   ]
  },
  {
   "cell_type": "code",
   "execution_count": 7,
   "metadata": {},
   "outputs": [],
   "source": [
    "y_pred = model.predict(X_test)"
   ]
  },
  {
   "cell_type": "code",
   "execution_count": 8,
   "metadata": {},
   "outputs": [
    {
     "name": "stdout",
     "output_type": "stream",
     "text": [
      "0.9711090400745573\n"
     ]
    },
    {
     "data": {
      "image/png": "[encoded data removed]",
      "text/plain": [
       "<Figure size 432x288 with 2 Axes>"
      ]
     },
     "metadata": {
      "needs_background": "light"
     },
     "output_type": "display_data"
    }
   ],
   "source": [
    "from sklearn.metrics import plot_confusion_matrix, accuracy_score, confusion_matrix\n",
    "plot_confusion_matrix(model, X_test, y_pred)\n",
    "confusion_matrix(y_test, y_pred)\n",
    "acc = accuracy_score(y_test, y_pred)\n",
    "print(acc)"
   ]
  },
  {
   "cell_type": "code",
   "execution_count": 9,
   "metadata": {},
   "outputs": [
    {
     "data": {
      "text/plain": [
       "array([[209,   0,   0,   0,   0],\n",
       "       [  0, 884,  18,   0,   0],\n",
       "       [  0,  18, 530,   9,   0],\n",
       "       [  0,   0,   5, 281,   3],\n",
       "       [  0,   1,   0,   8, 180]], dtype=int64)"
      ]
     },
     "execution_count": 9,
     "metadata": {},
     "output_type": "execute_result"
    }
   ],
   "source": [
    "confusion_matrix(y_test, y_pred)"
   ]
  },
  {
   "cell_type": "code",
   "execution_count": 10,
   "metadata": {},
   "outputs": [
    {
     "name": "stdout",
     "output_type": "stream",
     "text": [
      "              precision    recall  f1-score   support\n",
      "\n",
      "           0       1.00      1.00      1.00       209\n",
      "           1       0.98      0.98      0.98       902\n",
      "           2       0.96      0.95      0.95       557\n",
      "           3       0.94      0.97      0.96       289\n",
      "           4       0.98      0.95      0.97       189\n",
      "\n",
      "    accuracy                           0.97      2146\n",
      "   macro avg       0.97      0.97      0.97      2146\n",
      "weighted avg       0.97      0.97      0.97      2146\n",
      "\n"
     ]
    }
   ],
   "source": [
    "from sklearn import metrics\n",
    "print(metrics.classification_report(y_test, y_pred))"
   ]
  },
  {
   "cell_type": "code",
   "execution_count": 11,
   "metadata": {},
   "outputs": [
    {
     "data": {
      "text/plain": [
       "array([3], dtype=int64)"
      ]
     },
     "execution_count": 11,
     "metadata": {},
     "output_type": "execute_result"
    }
   ],
   "source": [
    "s_x = [[95, 96, 70, 90]]\n",
    "model.predict(s_x)"
   ]
  },
  {
   "cell_type": "code",
   "execution_count": 15,
   "metadata": {},
   "outputs": [],
   "source": [
    "import pickle\n",
    "filename = 'final_model.pkl'\n",
    "# pickle.dump(model, open(filename, 'wb'))"
   ]
  },
  {
   "cell_type": "code",
   "execution_count": 16,
   "metadata": {},
   "outputs": [
    {
     "name": "stdout",
     "output_type": "stream",
     "text": [
      "[3]\n"
     ]
    }
   ],
   "source": [
    "loaded_model = pickle.load(open(filename, 'rb'))\n",
    "result = loaded_model.predict(s_x)\n",
    "print(result)"
   ]
  },
  {
   "cell_type": "code",
   "execution_count": null,
   "metadata": {},
   "outputs": [],
   "source": []
  }
 ],
 "metadata": {
  "kernelspec": {
   "display_name": "Python 3",
   "language": "python",
   "name": "python3"
  },
  "language_info": {
   "codemirror_mode": {
    "name": "ipython",
    "version": 3
   },
   "file_extension": ".py",
   "mimetype": "text/x-python",
   "name": "python",
   "nbconvert_exporter": "python",
   "pygments_lexer": "ipython3",
   "version": "3.8.0"
  }
 },
 "nbformat": 4,
 "nbformat_minor": 4
}
